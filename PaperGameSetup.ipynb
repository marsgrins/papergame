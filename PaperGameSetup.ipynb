{
  "nbformat": 4,
  "nbformat_minor": 0,
  "metadata": {
    "colab": {
      "provenance": []
    },
    "kernelspec": {
      "name": "python3",
      "display_name": "Python 3"
    },
    "language_info": {
      "name": "python"
    }
  },
  "cells": [
    {
      "cell_type": "markdown",
      "source": [
        "NOTE: this notebook is NOT NEEDED if you already have file common_word_vectors.csv in your directory."
      ],
      "metadata": {
        "id": "Ug7ATNyxI2sq"
      }
    },
    {
      "cell_type": "markdown",
      "source": [
        "To run, you need file google-10000-english.txt in your directory.  Can be downloaded from here: https://github.com/first20hours/google-10000-english/blob/master/google-10000-english.txt"
      ],
      "metadata": {
        "id": "eCjq39S0JICC"
      }
    },
    {
      "cell_type": "code",
      "execution_count": 2,
      "metadata": {
        "colab": {
          "base_uri": "https://localhost:8080/"
        },
        "id": "oicKwkQBIxZY",
        "outputId": "fc48e303-5c76-4086-9fd0-c1551d42205b"
      },
      "outputs": [
        {
          "output_type": "stream",
          "name": "stdout",
          "text": [
            "[==================================================] 100.0% 1662.8/1662.8MB downloaded\n"
          ]
        }
      ],
      "source": [
        "missing_common_words=['watermelon','carousel','alligator','crocodile','carrot','kimono','pirate','dinosaur','playground','skateboard','beard','statue','spaceship','smartphone','couch']\n",
        "import gensim.downloader\n",
        "vectors = gensim.downloader.load('word2vec-google-news-300')\n",
        "with open('google-10000-english.txt', 'r') as file:\n",
        "  words10000 = [line.strip() for line in file]\n",
        "common_words={}\n",
        "for word in words10000:\n",
        "  if word in vectors:\n",
        "    vec = vectors[word]\n",
        "    vec = [int(x*1000) for x in vec]\n",
        "    common_words[word]=vec\n",
        "for word in missing_common_words:\n",
        "  if word not in words10000 and word in vectors:\n",
        "    vec = vectors[word]\n",
        "    vec = [int(x*1000) for x in vec]\n",
        "    common_words[word]=vec\n",
        "import csv\n",
        "with open('common_word_vectors.csv', 'w', newline='') as file:\n",
        "  writer = csv.DictWriter(file, fieldnames=common_words.keys())\n",
        "  writer.writeheader()\n",
        "  writer.writerow({k: ','.join(map(str, v)) for k, v in common_words.items()})"
      ]
    }
  ]
}