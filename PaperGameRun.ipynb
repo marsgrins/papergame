{
  "nbformat": 4,
  "nbformat_minor": 0,
  "metadata": {
    "colab": {
      "provenance": []
    },
    "kernelspec": {
      "name": "python3",
      "display_name": "Python 3"
    },
    "language_info": {
      "name": "python"
    }
  },
  "cells": [
    {
      "cell_type": "markdown",
      "source": [
        "Load common word vectors"
      ],
      "metadata": {
        "id": "KUTcvsrDEPEi"
      }
    },
    {
      "cell_type": "code",
      "source": [
        "import csv\n",
        "with open('common_word_vectors.csv', 'r') as file:\n",
        "  reader = csv.DictReader(file)\n",
        "  common_words = {k: list(map(int, v.split(','))) for k, v in next(reader).items()}"
      ],
      "metadata": {
        "id": "utISYyzzAWee"
      },
      "execution_count": null,
      "outputs": []
    },
    {
      "cell_type": "markdown",
      "source": [
        "Load image to text"
      ],
      "metadata": {
        "id": "cMFom_jXEVvs"
      }
    },
    {
      "cell_type": "code",
      "source": [
        "from transformers import pipeline"
      ],
      "metadata": {
        "id": "eu9DVjfAewzX"
      },
      "execution_count": null,
      "outputs": []
    },
    {
      "cell_type": "code",
      "source": [
        "captioner = pipeline(\"image-to-text\",model=\"Salesforce/blip-image-captioning-base\")"
      ],
      "metadata": {
        "id": "1pHSka9SrwZx"
      },
      "execution_count": null,
      "outputs": []
    },
    {
      "cell_type": "markdown",
      "source": [
        "Load cosine distance"
      ],
      "metadata": {
        "id": "9xZmi2QRLZ_F"
      }
    },
    {
      "cell_type": "code",
      "source": [
        "from sklearn.metrics.pairwise import cosine_similarity\n",
        "import numpy as np"
      ],
      "metadata": {
        "id": "KNHB_Pm9rpGh"
      },
      "execution_count": null,
      "outputs": []
    },
    {
      "cell_type": "code",
      "source": [
        "def cos(word1, word2):\n",
        "  return cosine_similarity([vectors[word1]], [vectors[word2]])[0][0]"
      ],
      "metadata": {
        "id": "xEYeHG1wro17"
      },
      "execution_count": null,
      "outputs": []
    },
    {
      "cell_type": "code",
      "source": [
        "def closest(n, word, dct):\n",
        "  wordvec = dct[word]\n",
        "  lst=[]\n",
        "  for key, value in dct.items():\n",
        "    lst.append([key,cosine_similarity([wordvec],[value])[0][0]])\n",
        "    lst.sort(key=lambda x: x[1], reverse=True)\n",
        "    if len(lst) > n:\n",
        "      lst = lst[:n]\n",
        "  return lst"
      ],
      "metadata": {
        "id": "9qsasm-DtQU6"
      },
      "execution_count": null,
      "outputs": []
    },
    {
      "cell_type": "markdown",
      "source": [
        "Create sentence splitter and joiner"
      ],
      "metadata": {
        "id": "MzmEDwSPLehM"
      }
    },
    {
      "cell_type": "code",
      "source": [
        "import re"
      ],
      "metadata": {
        "id": "rlUpDphqjWw4"
      },
      "execution_count": null,
      "outputs": []
    },
    {
      "cell_type": "code",
      "source": [
        "def sentence_to_list(sentence):\n",
        "  # Remove punctuation from the sentence\n",
        "  sentence_no_punctuation = re.sub(r'[^\\w\\s]', '', sentence)\n",
        "  # Split the sentence into words\n",
        "  words = sentence_no_punctuation.split()\n",
        "  return words"
      ],
      "metadata": {
        "id": "BJgiOTMwivlH"
      },
      "execution_count": null,
      "outputs": []
    },
    {
      "cell_type": "code",
      "source": [
        "def list_to_sentence(l):\n",
        "  return ' '.join(l)"
      ],
      "metadata": {
        "id": "NTWi8_YBkSAS"
      },
      "execution_count": null,
      "outputs": []
    },
    {
      "cell_type": "markdown",
      "source": [
        "Load image generator"
      ],
      "metadata": {
        "id": "Oj_i_3VPKX9R"
      }
    },
    {
      "cell_type": "code",
      "source": [
        "!pip install bingart -q"
      ],
      "metadata": {
        "id": "N3jHH7ZUyvvY"
      },
      "execution_count": null,
      "outputs": []
    },
    {
      "cell_type": "code",
      "source": [
        "from bingart import BingArt\n",
        "from PIL import Image\n",
        "import requests\n",
        "from io import BytesIO"
      ],
      "metadata": {
        "id": "GmMuT3TWnrPi"
      },
      "execution_count": null,
      "outputs": []
    },
    {
      "cell_type": "markdown",
      "source": [
        "# Getting authentication\n",
        "*   Go to https://bing.com/.\n",
        "*   F12 to open console\n",
        "*   In the JavaScript console, type cookieStore.get(\"_U\").then(result => console.log(result.value)) and press enter\n",
        "*   Copy the output. This is used in --U or auth_cookie.\n",
        "### Firefox\n",
        "*   Go to https://bing.com/.\n",
        "*   F12 to open developer tools\n",
        "*   navigate to the storage tab\n",
        "*   expand the cookies tab\n",
        "*   click on the https://bing.com cookie\n",
        "*   copy the value from the _U"
      ],
      "metadata": {
        "id": "_rxZc3azIT8A"
      }
    },
    {
      "cell_type": "code",
      "source": [
        "auth_cookie_U='paste your cookie here'"
      ],
      "metadata": {
        "id": "BEE0HCXT0CYu"
      },
      "execution_count": null,
      "outputs": []
    },
    {
      "cell_type": "code",
      "source": [
        "bing_art = BingArt(auth_cookie_U=auth_cookie_U)"
      ],
      "metadata": {
        "id": "Q1S2y8Y0yt9k"
      },
      "execution_count": null,
      "outputs": []
    },
    {
      "cell_type": "code",
      "source": [
        "def get_bing_image(prompt):\n",
        "  try:\n",
        "    results = bing_art.generate_images(prompt)\n",
        "  finally:\n",
        "    bing_art.close_session()\n",
        "  url = results['images'][0]['url']\n",
        "  # Send a GET request to the image URL\n",
        "  response = requests.get(url)\n",
        "  # Open the image from the response content\n",
        "  img = Image.open(BytesIO(response.content))\n",
        "  return img"
      ],
      "metadata": {
        "id": "weaIdUszzzK0"
      },
      "execution_count": null,
      "outputs": []
    },
    {
      "cell_type": "code",
      "source": [
        "ignore_short_words=['and','the','or','a','an','with','in','of','on','between','next','to','around','it','its','top']"
      ],
      "metadata": {
        "id": "wSmYQv5fq55s"
      },
      "execution_count": null,
      "outputs": []
    },
    {
      "cell_type": "code",
      "source": [
        "import random"
      ],
      "metadata": {
        "id": "dE23FLrlKhjN"
      },
      "execution_count": null,
      "outputs": []
    },
    {
      "cell_type": "code",
      "source": [
        "def mutate(sentence, d, r): # d is how far to mutate minimum. r is how much randomness to add to d each time.\n",
        "  l = sentence_to_list(sentence)\n",
        "  for i in range(len(l)):\n",
        "    if len(l[i]) >= 3 and l[i] not in ignore_short_words:\n",
        "      d2 = d + random.randint(0,r)\n",
        "      if l[i] in common_words:\n",
        "        l[i] = closest(d2+1, l[i], common_words)[d2][0]\n",
        "      elif l[i][-1] == 's' and l[i][:-1] in common_words: # sometimes plurals are not in but the singular is. Handle it like this.\n",
        "        l[i] = closest(d2+1, l[i][:-1], common_words)[d2][0]+'s'\n",
        "      else:\n",
        "        l[i] = ''\n",
        "  output = list_to_sentence(l)\n",
        "  output = output.replace('_', ' ') # Replace underscores with spaces\n",
        "  return output"
      ],
      "metadata": {
        "id": "gk6bMP1O-AjI"
      },
      "execution_count": null,
      "outputs": []
    },
    {
      "cell_type": "code",
      "source": [
        "def paper_game(prompt, n, d, r): # n is how many images. d is how far to mutate minimum. r is how much randomness to add to d each time.\n",
        "  print(\"Prompt: \",prompt)\n",
        "  try:\n",
        "    for i in range(n):\n",
        "      image = get_bing_image(prompt)\n",
        "      display(image)\n",
        "      if i >= n-1:\n",
        "        break\n",
        "      text=captioner(image, max_new_tokens=20)[0]['generated_text']\n",
        "      print(\"AI generated caption: \",text)\n",
        "      prompt = mutate(text, d, r)\n",
        "      print(\"Mutated caption: \",prompt)\n",
        "  except Exception:\n",
        "    print('Prompt rejected by Bing')"
      ],
      "metadata": {
        "id": "q-r_idRK57eh"
      },
      "execution_count": null,
      "outputs": []
    },
    {
      "cell_type": "code",
      "source": [
        "paper_game('That elephant is causing the fox some concern', 8, 15, 5)"
      ],
      "metadata": {
        "id": "iKM0LjbyDK8C"
      },
      "execution_count": null,
      "outputs": []
    }
  ]
}